{
 "cells": [
  {
   "cell_type": "code",
   "execution_count": 2,
   "id": "dbc7f09c",
   "metadata": {},
   "outputs": [],
   "source": [
    "from warnings import filterwarnings\n",
    "filterwarnings(\"ignore\", category=FutureWarning)"
   ]
  },
  {
   "cell_type": "code",
   "execution_count": 3,
   "id": "e52ba31e",
   "metadata": {},
   "outputs": [
    {
     "name": "stderr",
     "output_type": "stream",
     "text": [
      "Device set to use cpu\n"
     ]
    }
   ],
   "source": [
    "import sys\n",
    "from youtube_search import fetch_youtube_videos\n",
    "from gemini_ranking import rank_videos_gemini\n",
    "from speech_to_text import transcribe_audio_hf"
   ]
  },
  {
   "cell_type": "markdown",
   "id": "770722f9",
   "metadata": {},
   "source": [
    "### From Text"
   ]
  },
  {
   "cell_type": "markdown",
   "id": "09ad9375",
   "metadata": {},
   "source": [
    "##### Input In english"
   ]
  },
  {
   "cell_type": "markdown",
   "id": "f2ffb84e",
   "metadata": {},
   "source": [
    "Taking input : \"Global Warming in detail\""
   ]
  },
  {
   "cell_type": "code",
   "execution_count": 4,
   "id": "49830f0c",
   "metadata": {},
   "outputs": [
    {
     "name": "stdout",
     "output_type": "stream",
     "text": [
      "\n",
      "🔍 Searching YouTube...\n",
      "📦 Found 20 videos. Ranking now with Gemini...\n",
      "\n",
      "🏆 Best Video:\n",
      "Title       : Why Heatwaves are getting worse every year? | The Public Health Talks\n",
      "Link        : https://www.youtube.com/watch?v=EwVTIW0oj_g\n"
     ]
    }
   ],
   "source": [
    "query = input(\"🎤 Enter your query (in Hindi or English): \")\n",
    "print(\"\\n🔍 Searching YouTube...\")\n",
    "videos = fetch_youtube_videos(query)\n",
    "\n",
    "if not videos:\n",
    "        print(\"❌ No suitable videos found.\")\n",
    "        sys.exit(1)\n",
    "        \n",
    "print(f\"📦 Found {len(videos)} videos. Ranking now with Gemini...\\n\")\n",
    "best_video = rank_videos_gemini(query, videos)\n",
    "best_video_details =videos['title' == best_video]\n",
    "if best_video:\n",
    "        print(\"🏆 Best Video:\")\n",
    "        print(f\"Title       : {best_video_details['title']}\")\n",
    "        print(f\"Link        : {best_video_details['url']}\")\n",
    "else:\n",
    "        print(\"❌ Gemini couldn't determine the best video.\")"
   ]
  },
  {
   "cell_type": "markdown",
   "id": "6a1d65bb",
   "metadata": {},
   "source": [
    "##### Input in Hindi "
   ]
  },
  {
   "cell_type": "markdown",
   "id": "54be9f03",
   "metadata": {},
   "source": [
    "Taking Input as : \"प्लास्टिक प्रदूषण\""
   ]
  },
  {
   "cell_type": "code",
   "execution_count": 5,
   "id": "2b9c2a23",
   "metadata": {},
   "outputs": [
    {
     "name": "stdout",
     "output_type": "stream",
     "text": [
      "\n",
      "🔍 Searching YouTube...\n",
      "📦 Found 20 videos. Ranking now with Gemini...\n",
      "\n",
      "🏆 Best Video:\n",
      "Title       : पाठ 3 प्लास्टिक प्रदूषण\n",
      "Link        : https://www.youtube.com/watch?v=4y9hFhXevyo\n"
     ]
    }
   ],
   "source": [
    "query = input(\"🎤 Enter your query (in Hindi or English): \")\n",
    "print(\"\\n🔍 Searching YouTube...\")\n",
    "videos = fetch_youtube_videos(query)\n",
    "\n",
    "if not videos:\n",
    "        print(\"❌ No suitable videos found.\")\n",
    "        sys.exit(1)\n",
    "        \n",
    "print(f\"📦 Found {len(videos)} videos. Ranking now with Gemini...\\n\")\n",
    "best_video = rank_videos_gemini(query, videos)\n",
    "best_video_details =videos['title' == best_video]\n",
    "if best_video:\n",
    "        print(\"🏆 Best Video:\")\n",
    "        print(f\"Title       : {best_video_details['title']}\")\n",
    "        print(f\"Link        : {best_video_details['url']}\")\n",
    "else:\n",
    "        print(\"❌ Gemini couldn't determine the best video.\")"
   ]
  },
  {
   "cell_type": "markdown",
   "id": "fc23002d",
   "metadata": {},
   "source": [
    "### From Audio"
   ]
  },
  {
   "cell_type": "markdown",
   "id": "981f42e7",
   "metadata": {},
   "source": [
    "##### From English Audio"
   ]
  },
  {
   "cell_type": "code",
   "execution_count": 6,
   "id": "cc42d117",
   "metadata": {},
   "outputs": [
    {
     "name": "stdout",
     "output_type": "stream",
     "text": [
      "🔊 Converting and transcribing audio...\n"
     ]
    },
    {
     "name": "stderr",
     "output_type": "stream",
     "text": [
      "Due to a bug fix in https://github.com/huggingface/transformers/pull/28687 transcription using a multilingual Whisper will default to language detection followed by transcription instead of translation to English.This might be a breaking change for your use case. If you want to instead always translate your audio to English, make sure to pass `language='en'`.\n"
     ]
    },
    {
     "name": "stdout",
     "output_type": "stream",
     "text": [
      "🗣 Transcribed text: Who is Elon Musk?\n",
      "\n",
      "📝 Transcribed Query: Who is Elon Musk?\n",
      "\n",
      "🔍 Searching YouTube...\n",
      "📦 Found 20 videos. Ranking now with Gemini...\n",
      "\n",
      "🏆 Best Video:\n",
      "Title       : NEW Tesla Model 2 Supercheap $2500 Battery Finally Revealed! Elon Musk \"It Still Gets 300 Miles\"!\n",
      "Link        : https://www.youtube.com/watch?v=fnCrkjF8JxE\n"
     ]
    }
   ],
   "source": [
    "file_path = input(\"📂 Enter the path to the audio file (.mp3 or .wav): \")\n",
    "        \n",
    "query = transcribe_audio_hf(file_path)\n",
    "print(f\"\\n📝 Transcribed Query: {query}\")\n",
    "print(\"\\n🔍 Searching YouTube...\")\n",
    "videos = fetch_youtube_videos(query)\n",
    "\n",
    "if not videos:\n",
    "        print(\"❌ No suitable videos found.\")\n",
    "        sys.exit(1)\n",
    "\n",
    "print(f\"📦 Found {len(videos)} videos. Ranking now with Gemini...\\n\")\n",
    "best_video = rank_videos_gemini(query, videos)\n",
    "best_video_details =videos['title' == best_video]\n",
    "if best_video:\n",
    "        print(\"🏆 Best Video:\")\n",
    "        print(f\"Title       : {best_video_details['title']}\")\n",
    "        print(f\"Link        : {best_video_details['url']}\")\n",
    "else:\n",
    "    print(\"❌ Gemini couldn't determine the best video.\")"
   ]
  },
  {
   "cell_type": "markdown",
   "id": "1412a1d6",
   "metadata": {},
   "source": [
    "##### From Hindi Audio"
   ]
  },
  {
   "cell_type": "code",
   "execution_count": 9,
   "id": "a47886c8",
   "metadata": {},
   "outputs": [
    {
     "name": "stdout",
     "output_type": "stream",
     "text": [
      "🔊 Converting and transcribing audio...\n",
      "🗣 Transcribed text: अंतरिक्ष यात्रा\n",
      "\n",
      "📝 Transcribed Query: अंतरिक्ष यात्रा\n",
      "\n",
      "🔍 Searching YouTube...\n",
      "📦 Found 20 videos. Ranking now with Gemini...\n",
      "\n",
      "🏆 Best Video:\n",
      "Title       : ANTRIKSHA YATRA अंतरिक्ष यात्रा Part 1\n",
      "Link        : https://www.youtube.com/watch?v=pm8zMeW0nYk\n"
     ]
    }
   ],
   "source": [
    "file_path = input(\"📂 Enter the path to the audio file (.mp3 or .wav): \")\n",
    "        \n",
    "query = transcribe_audio_hf(file_path)\n",
    "print(f\"\\n📝 Transcribed Query: {query}\")\n",
    "print(\"\\n🔍 Searching YouTube...\")\n",
    "videos = fetch_youtube_videos(query)\n",
    "\n",
    "if not videos:\n",
    "        print(\"❌ No suitable videos found.\")\n",
    "        sys.exit(1)\n",
    "\n",
    "print(f\"📦 Found {len(videos)} videos. Ranking now with Gemini...\\n\")\n",
    "best_video = rank_videos_gemini(query, videos)\n",
    "best_video_details =videos['title' == best_video]\n",
    "if best_video:\n",
    "        print(\"🏆 Best Video:\")\n",
    "        print(f\"Title       : {best_video_details['title']}\")\n",
    "        print(f\"Link        : {best_video_details['url']}\")\n",
    "else:\n",
    "    print(\"❌ Gemini couldn't determine the best video.\")"
   ]
  }
 ],
 "metadata": {
  "kernelspec": {
   "display_name": "Python 3",
   "language": "python",
   "name": "python3"
  },
  "language_info": {
   "codemirror_mode": {
    "name": "ipython",
    "version": 3
   },
   "file_extension": ".py",
   "mimetype": "text/x-python",
   "name": "python",
   "nbconvert_exporter": "python",
   "pygments_lexer": "ipython3",
   "version": "3.11.4"
  }
 },
 "nbformat": 4,
 "nbformat_minor": 5
}
